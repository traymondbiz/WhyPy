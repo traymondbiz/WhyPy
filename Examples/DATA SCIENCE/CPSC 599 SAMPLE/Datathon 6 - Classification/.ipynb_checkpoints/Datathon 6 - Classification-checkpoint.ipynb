{
 "cells": [
  {
   "cell_type": "markdown",
   "metadata": {},
   "source": [
    "# Datathon #6 - Classification"
   ]
  },
  {
   "cell_type": "markdown",
   "metadata": {},
   "source": [
    "This week, you will train a set of classifiers to label LEGO sets by theme, based on other metadata about the sets (year, number of parts, colors, or some combination of them). \n",
    "\n",
    "You should test at least 5 different classifiers:\n",
    "+ kNN\n",
    "+ Naïve Bayes\n",
    "+ Decision Tree\n",
    "+ Random Forest\n",
    "+ Neural Network\n",
    "\n",
    "\n",
    "For each classifier, report:\n",
    "1. What parameters (if any) you tuned.\n",
    "2. How well it performed. — Report the Accuracy, Precision, Recall, and F1-score. Also render a confusion matrix. (Remember, don’t test on your training data!)\n",
    "3. Your interpretation of the result. Explain what you think the classifier got right/wrong. (Feel free to include visualizations or additional info that helps explain)."
   ]
  },
  {
   "cell_type": "code",
   "execution_count": 1,
   "metadata": {
    "collapsed": true
   },
   "outputs": [],
   "source": [
    "import numpy as np\n",
    "import scipy as sp\n",
    "import pandas as pd\n",
    "import sklearn as sk\n",
    "import sklearn.metrics as skm\n",
    "\n",
    "import matplotlib.pyplot as plt\n",
    "%matplotlib inline\n",
    "import seaborn as sns\n",
    "sns.set(style='white', color_codes=True, font_scale=1.3)"
   ]
  },
  {
   "cell_type": "markdown",
   "metadata": {},
   "source": [
    "We will use a variant of the second dataset from last week, adding a \"theme\" column.\n",
    "\n",
    "** LEGO Colors by Set + Theme** — Contains data on the colors of the pieces in each LEGO set.\n",
    "\n",
    "- Set Num = A unique alphanumeric ID number for each set. \n",
    "- Set Name = The official name of the set (some names are reused for more than one set).\n",
    "- Year = The year the set was released.\n",
    "- Num Parts = Total number of parts listed on the box.\n",
    "- Theme = The theme the set was released under (\"Technic\", \"Ninjago\", \"Star Wars\", \"City\", etc.)\n",
    "- [Colors] = Number of parts of each color in the set, according to the Rebrickable database.\n",
    "\n",
    "You can also get more data about individual sets by going to http://rebrickable.com/sets/{SetNum}"
   ]
  },
  {
   "cell_type": "code",
   "execution_count": 2,
   "metadata": {
    "collapsed": true
   },
   "outputs": [],
   "source": [
    "# Import data, remove NaN\n",
    "lego_frame_full = pd.read_excel('Set Color Data+Themes.xlsx')\n",
    "lego_frame_full.fillna(0, inplace=True)\n",
    "\n",
    "# For this datathon we'll just focus on 10 most popular themes.\n",
    "lego_frame = lego_frame_full[(lego_frame_full[\"Theme\"] == \"Technic\") | \n",
    "                        (lego_frame_full[\"Theme\"] == \"Friends\") |\n",
    "                        (lego_frame_full[\"Theme\"] == \"City\") |\n",
    "                        (lego_frame_full[\"Theme\"] == \"Basic Set\") |\n",
    "                        (lego_frame_full[\"Theme\"] == \"Creator\") |\n",
    "                        (lego_frame_full[\"Theme\"] == \"Duplo\") |\n",
    "                        (lego_frame_full[\"Theme\"] == \"Star Wars\") |\n",
    "                        (lego_frame_full[\"Theme\"] == \"Ninjago\") |\n",
    "                        (lego_frame_full[\"Theme\"] == \"Construction\") |\n",
    "                        (lego_frame_full[\"Theme\"] == \"Airport\")]"
   ]
  },
  {
   "cell_type": "code",
   "execution_count": 3,
   "metadata": {},
   "outputs": [
    {
     "data": {
      "text/html": [
       "<div>\n",
       "<style>\n",
       "    .dataframe thead tr:only-child th {\n",
       "        text-align: right;\n",
       "    }\n",
       "\n",
       "    .dataframe thead th {\n",
       "        text-align: left;\n",
       "    }\n",
       "\n",
       "    .dataframe tbody tr th {\n",
       "        vertical-align: top;\n",
       "    }\n",
       "</style>\n",
       "<table border=\"1\" class=\"dataframe\">\n",
       "  <thead>\n",
       "    <tr style=\"text-align: right;\">\n",
       "      <th></th>\n",
       "      <th>Set Num</th>\n",
       "      <th>Set Name</th>\n",
       "      <th>Theme</th>\n",
       "      <th>Year</th>\n",
       "      <th>Num Parts</th>\n",
       "      <th>[No Color]</th>\n",
       "      <th>Aqua</th>\n",
       "      <th>Black</th>\n",
       "      <th>Blue</th>\n",
       "      <th>Blue-Violet</th>\n",
       "      <th>...</th>\n",
       "      <th>Trans-Very Lt Blue</th>\n",
       "      <th>Trans-Yellow</th>\n",
       "      <th>Unknown</th>\n",
       "      <th>Very Light Bluish Gray</th>\n",
       "      <th>Very Light Gray</th>\n",
       "      <th>Very Light Orange</th>\n",
       "      <th>Violet</th>\n",
       "      <th>White</th>\n",
       "      <th>Yellow</th>\n",
       "      <th>Yellowish Green</th>\n",
       "    </tr>\n",
       "  </thead>\n",
       "  <tbody>\n",
       "    <tr>\n",
       "      <th>4</th>\n",
       "      <td>2823692</td>\n",
       "      <td>Simple and Motorized Machines Activity Pack</td>\n",
       "      <td>Technic</td>\n",
       "      <td>1997</td>\n",
       "      <td>24</td>\n",
       "      <td>24.0</td>\n",
       "      <td>0.0</td>\n",
       "      <td>0.0</td>\n",
       "      <td>0.0</td>\n",
       "      <td>0.0</td>\n",
       "      <td>...</td>\n",
       "      <td>0.0</td>\n",
       "      <td>0.0</td>\n",
       "      <td>0.0</td>\n",
       "      <td>0.0</td>\n",
       "      <td>0.0</td>\n",
       "      <td>0.0</td>\n",
       "      <td>0.0</td>\n",
       "      <td>0.0</td>\n",
       "      <td>0.0</td>\n",
       "      <td>0.0</td>\n",
       "    </tr>\n",
       "    <tr>\n",
       "      <th>8</th>\n",
       "      <td>2818944</td>\n",
       "      <td>Structures Set</td>\n",
       "      <td>Technic</td>\n",
       "      <td>1997</td>\n",
       "      <td>439</td>\n",
       "      <td>20.0</td>\n",
       "      <td>0.0</td>\n",
       "      <td>116.0</td>\n",
       "      <td>56.0</td>\n",
       "      <td>0.0</td>\n",
       "      <td>...</td>\n",
       "      <td>0.0</td>\n",
       "      <td>0.0</td>\n",
       "      <td>0.0</td>\n",
       "      <td>0.0</td>\n",
       "      <td>0.0</td>\n",
       "      <td>0.0</td>\n",
       "      <td>0.0</td>\n",
       "      <td>0.0</td>\n",
       "      <td>0.0</td>\n",
       "      <td>0.0</td>\n",
       "    </tr>\n",
       "    <tr>\n",
       "      <th>10</th>\n",
       "      <td>2814926</td>\n",
       "      <td>Technology Activity Set</td>\n",
       "      <td>Technic</td>\n",
       "      <td>1994</td>\n",
       "      <td>318</td>\n",
       "      <td>17.0</td>\n",
       "      <td>0.0</td>\n",
       "      <td>92.0</td>\n",
       "      <td>2.0</td>\n",
       "      <td>0.0</td>\n",
       "      <td>...</td>\n",
       "      <td>0.0</td>\n",
       "      <td>0.0</td>\n",
       "      <td>0.0</td>\n",
       "      <td>0.0</td>\n",
       "      <td>0.0</td>\n",
       "      <td>0.0</td>\n",
       "      <td>0.0</td>\n",
       "      <td>2.0</td>\n",
       "      <td>1.0</td>\n",
       "      <td>0.0</td>\n",
       "    </tr>\n",
       "  </tbody>\n",
       "</table>\n",
       "<p>3 rows × 136 columns</p>\n",
       "</div>"
      ],
      "text/plain": [
       "    Set Num                                     Set Name    Theme  Year  \\\n",
       "4   2823692  Simple and Motorized Machines Activity Pack  Technic  1997   \n",
       "8   2818944                               Structures Set  Technic  1997   \n",
       "10  2814926                      Technology Activity Set  Technic  1994   \n",
       "\n",
       "    Num Parts  [No Color]  Aqua  Black  Blue  Blue-Violet       ...         \\\n",
       "4          24        24.0   0.0    0.0   0.0          0.0       ...          \n",
       "8         439        20.0   0.0  116.0  56.0          0.0       ...          \n",
       "10        318        17.0   0.0   92.0   2.0          0.0       ...          \n",
       "\n",
       "    Trans-Very Lt Blue  Trans-Yellow  Unknown  Very Light Bluish Gray  \\\n",
       "4                  0.0           0.0      0.0                     0.0   \n",
       "8                  0.0           0.0      0.0                     0.0   \n",
       "10                 0.0           0.0      0.0                     0.0   \n",
       "\n",
       "    Very Light Gray  Very Light Orange  Violet  White  Yellow  Yellowish Green  \n",
       "4               0.0                0.0     0.0    0.0     0.0              0.0  \n",
       "8               0.0                0.0     0.0    0.0     0.0              0.0  \n",
       "10              0.0                0.0     0.0    2.0     1.0              0.0  \n",
       "\n",
       "[3 rows x 136 columns]"
      ]
     },
     "execution_count": 3,
     "metadata": {},
     "output_type": "execute_result"
    }
   ],
   "source": [
    "lego_frame.head(3)"
   ]
  },
  {
   "cell_type": "markdown",
   "metadata": {},
   "source": [
    "Some potentially useful refactorings of the data."
   ]
  },
  {
   "cell_type": "code",
   "execution_count": 4,
   "metadata": {},
   "outputs": [
    {
     "data": {
      "text/html": [
       "<div>\n",
       "<style>\n",
       "    .dataframe thead tr:only-child th {\n",
       "        text-align: right;\n",
       "    }\n",
       "\n",
       "    .dataframe thead th {\n",
       "        text-align: left;\n",
       "    }\n",
       "\n",
       "    .dataframe tbody tr th {\n",
       "        vertical-align: top;\n",
       "    }\n",
       "</style>\n",
       "<table border=\"1\" class=\"dataframe\">\n",
       "  <thead>\n",
       "    <tr style=\"text-align: right;\">\n",
       "      <th></th>\n",
       "      <th>[No Color]</th>\n",
       "      <th>Aqua</th>\n",
       "      <th>Black</th>\n",
       "      <th>Blue</th>\n",
       "      <th>Blue-Violet</th>\n",
       "      <th>Bright Green</th>\n",
       "      <th>Bright Light Blue</th>\n",
       "      <th>Bright Light Orange</th>\n",
       "      <th>Bright Light Yellow</th>\n",
       "      <th>Bright Pink</th>\n",
       "      <th>...</th>\n",
       "      <th>Very Light Orange</th>\n",
       "      <th>Violet</th>\n",
       "      <th>White</th>\n",
       "      <th>Yellow</th>\n",
       "      <th>Yellowish Green</th>\n",
       "      <th>Year</th>\n",
       "      <th>Set Name</th>\n",
       "      <th>Set Num</th>\n",
       "      <th>Theme</th>\n",
       "      <th>Num Parts</th>\n",
       "    </tr>\n",
       "  </thead>\n",
       "  <tbody>\n",
       "    <tr>\n",
       "      <th>4</th>\n",
       "      <td>1.000000</td>\n",
       "      <td>0.0</td>\n",
       "      <td>0.000000</td>\n",
       "      <td>0.000000</td>\n",
       "      <td>0.0</td>\n",
       "      <td>0.0</td>\n",
       "      <td>0.0</td>\n",
       "      <td>0.0</td>\n",
       "      <td>0.0</td>\n",
       "      <td>0.0</td>\n",
       "      <td>...</td>\n",
       "      <td>0.0</td>\n",
       "      <td>0.0</td>\n",
       "      <td>0.000000</td>\n",
       "      <td>0.000000</td>\n",
       "      <td>0.0</td>\n",
       "      <td>1997</td>\n",
       "      <td>Simple and Motorized Machines Activity Pack</td>\n",
       "      <td>2823692</td>\n",
       "      <td>Technic</td>\n",
       "      <td>24</td>\n",
       "    </tr>\n",
       "    <tr>\n",
       "      <th>8</th>\n",
       "      <td>0.045558</td>\n",
       "      <td>0.0</td>\n",
       "      <td>0.264237</td>\n",
       "      <td>0.127563</td>\n",
       "      <td>0.0</td>\n",
       "      <td>0.0</td>\n",
       "      <td>0.0</td>\n",
       "      <td>0.0</td>\n",
       "      <td>0.0</td>\n",
       "      <td>0.0</td>\n",
       "      <td>...</td>\n",
       "      <td>0.0</td>\n",
       "      <td>0.0</td>\n",
       "      <td>0.000000</td>\n",
       "      <td>0.000000</td>\n",
       "      <td>0.0</td>\n",
       "      <td>1997</td>\n",
       "      <td>Structures Set</td>\n",
       "      <td>2818944</td>\n",
       "      <td>Technic</td>\n",
       "      <td>439</td>\n",
       "    </tr>\n",
       "    <tr>\n",
       "      <th>10</th>\n",
       "      <td>0.051360</td>\n",
       "      <td>0.0</td>\n",
       "      <td>0.277946</td>\n",
       "      <td>0.006042</td>\n",
       "      <td>0.0</td>\n",
       "      <td>0.0</td>\n",
       "      <td>0.0</td>\n",
       "      <td>0.0</td>\n",
       "      <td>0.0</td>\n",
       "      <td>0.0</td>\n",
       "      <td>...</td>\n",
       "      <td>0.0</td>\n",
       "      <td>0.0</td>\n",
       "      <td>0.006042</td>\n",
       "      <td>0.003021</td>\n",
       "      <td>0.0</td>\n",
       "      <td>1994</td>\n",
       "      <td>Technology Activity Set</td>\n",
       "      <td>2814926</td>\n",
       "      <td>Technic</td>\n",
       "      <td>318</td>\n",
       "    </tr>\n",
       "  </tbody>\n",
       "</table>\n",
       "<p>3 rows × 136 columns</p>\n",
       "</div>"
      ],
      "text/plain": [
       "    [No Color]  Aqua     Black      Blue  Blue-Violet  Bright Green  \\\n",
       "4     1.000000   0.0  0.000000  0.000000          0.0           0.0   \n",
       "8     0.045558   0.0  0.264237  0.127563          0.0           0.0   \n",
       "10    0.051360   0.0  0.277946  0.006042          0.0           0.0   \n",
       "\n",
       "    Bright Light Blue  Bright Light Orange  Bright Light Yellow  Bright Pink  \\\n",
       "4                 0.0                  0.0                  0.0          0.0   \n",
       "8                 0.0                  0.0                  0.0          0.0   \n",
       "10                0.0                  0.0                  0.0          0.0   \n",
       "\n",
       "      ...      Very Light Orange  Violet     White    Yellow  Yellowish Green  \\\n",
       "4     ...                    0.0     0.0  0.000000  0.000000              0.0   \n",
       "8     ...                    0.0     0.0  0.000000  0.000000              0.0   \n",
       "10    ...                    0.0     0.0  0.006042  0.003021              0.0   \n",
       "\n",
       "    Year                                     Set Name  Set Num    Theme  \\\n",
       "4   1997  Simple and Motorized Machines Activity Pack  2823692  Technic   \n",
       "8   1997                               Structures Set  2818944  Technic   \n",
       "10  1994                      Technology Activity Set  2814926  Technic   \n",
       "\n",
       "    Num Parts  \n",
       "4          24  \n",
       "8         439  \n",
       "10        318  \n",
       "\n",
       "[3 rows x 136 columns]"
      ]
     },
     "execution_count": 4,
     "metadata": {},
     "output_type": "execute_result"
    }
   ],
   "source": [
    "# Creates a copy of the dataframe where color counts are normalized \n",
    "#  so each gives the % of parts in the set with that color, rather than the total count.\n",
    "norm_lego = lego_frame.copy()\n",
    "norm_lego = norm_lego.drop([ 'Set Name', 'Set Num', 'Theme', 'Year', 'Num Parts'], axis=1)\n",
    "norm_lego = norm_lego.div(norm_lego.sum(axis=1), axis=0)\n",
    "\n",
    "# A list of all the color name columns\n",
    "color_cols = norm_lego.columns\n",
    "# A list of all the other numeric columns\n",
    "other_cols = [\"Year\", \"Num Parts\"]\n",
    "\n",
    "# Add back the non-numeric columns to the normalized table\n",
    "norm_lego[\"Year\"] = lego_frame[\"Year\"]\n",
    "norm_lego[\"Set Name\"] = lego_frame[\"Set Name\"]\n",
    "norm_lego[\"Set Num\"] = lego_frame[\"Set Num\"]\n",
    "norm_lego[\"Theme\"] = lego_frame[\"Theme\"]\n",
    "norm_lego[\"Num Parts\"] = lego_frame[\"Num Parts\"]\n",
    "norm_lego.head(3)"
   ]
  },
  {
   "cell_type": "code",
   "execution_count": 5,
   "metadata": {},
   "outputs": [
    {
     "data": {
      "text/plain": [
       "Index(['[No Color]', 'Aqua', 'Black', 'Blue', 'Blue-Violet', 'Bright Green',\n",
       "       'Bright Light Blue', 'Bright Light Orange', 'Bright Light Yellow',\n",
       "       'Bright Pink',\n",
       "       ...\n",
       "       'Trans-Very Lt Blue', 'Trans-Yellow', 'Unknown',\n",
       "       'Very Light Bluish Gray', 'Very Light Gray', 'Very Light Orange',\n",
       "       'Violet', 'White', 'Yellow', 'Yellowish Green'],\n",
       "      dtype='object', length=131)"
      ]
     },
     "execution_count": 5,
     "metadata": {},
     "output_type": "execute_result"
    }
   ],
   "source": [
    "color_cols # The complete list of color columns"
   ]
  },
  {
   "cell_type": "markdown",
   "metadata": {},
   "source": [
    "## Training and Test Splits\n",
    "Make sure you don't accidentally test on your training data."
   ]
  },
  {
   "cell_type": "code",
   "execution_count": 6,
   "metadata": {
    "collapsed": true
   },
   "outputs": [],
   "source": [
    "# Generate test and training sets\n",
    "from sklearn.model_selection import train_test_split\n",
    "\n",
    "# TODO: Make sure you split your data into training and test sets before you start training classifiers."
   ]
  },
  {
   "cell_type": "markdown",
   "metadata": {},
   "source": [
    "## k-Nearest Neighbors"
   ]
  },
  {
   "cell_type": "code",
   "execution_count": 7,
   "metadata": {
    "collapsed": true
   },
   "outputs": [],
   "source": [
    "#"
   ]
  },
  {
   "cell_type": "code",
   "execution_count": 8,
   "metadata": {
    "collapsed": true
   },
   "outputs": [],
   "source": [
    "#lego_knn_predictions = lego_knn.predict(YOUR_TEST_INPUTS) #TODO — substitute in your own test data"
   ]
  },
  {
   "cell_type": "markdown",
   "metadata": {},
   "source": [
    "## Naive Bayes"
   ]
  },
  {
   "cell_type": "code",
   "execution_count": 80,
   "metadata": {},
   "outputs": [
    {
     "name": "stdout",
     "output_type": "stream",
     "text": [
      "Accuracy:   0.379707112971\n",
      "Precision:  0.442460044085\n",
      "Recall:     0.379707112971\n",
      "F1 Score:   0.328347325515\n"
     ]
    },
    {
     "data": {
      "text/plain": [
       "Text(0.5,1,'Confusion Matrix')"
      ]
     },
     "execution_count": 80,
     "metadata": {},
     "output_type": "execute_result"
    },
    {
     "data": {
      "image/png": "[encoded data removed]",
      "text/plain": [
       "<matplotlib.figure.Figure at 0x20832f66e10>"
      ]
     },
     "metadata": {},
     "output_type": "display_data"
    }
   ],
   "source": [
    "# Import Naive Bayes Classification and training.\n",
    "from sklearn.naive_bayes import GaussianNB\n",
    "from sklearn.model_selection import train_test_split\n",
    "\n",
    "# Import data, remove NaN\n",
    "nbFrameFull = pd.read_excel('Set Color Data+Themes.xlsx')\n",
    "nbFrameFull.fillna(0, inplace=True)\n",
    "\n",
    "# For this datathon we'll just focus on 10 most popular themes.\n",
    "nbFrame = nbFrameFull[(nbFrameFull[\"Theme\"] == \"Technic\") | (nbFrameFull[\"Theme\"] == \"Friends\") | \n",
    "                      (nbFrameFull[\"Theme\"] == \"City\") | (nbFrameFull[\"Theme\"] == \"Basic Set\") |\n",
    "                      (nbFrameFull[\"Theme\"] == \"Creator\") | (nbFrameFull[\"Theme\"] == \"Duplo\") |\n",
    "                      (nbFrameFull[\"Theme\"] == \"Star Wars\") | (nbFrameFull[\"Theme\"] == \"Ninjago\") |\n",
    "                      (nbFrameFull[\"Theme\"] == \"Construction\") | (nbFrameFull[\"Theme\"] == \"Airport\")]\n",
    "\n",
    "## Tests/Trains with the specified values. (Top 3 colors of each set excluding top 10 overall colors.)\n",
    "nbList = ['Year','Trans-Light Blue', 'Trans-Black', 'Trans-Red', 'Orange', 'Lime', 'Trans-Clear', \n",
    "          'Trans-Orange', 'Reddish Brown', 'Dark Green','Bright Green', 'Medium Azure', 'Magenta', \n",
    "          'Pearl Gold', 'Dark Tan', 'Flat Silver', 'Dark Red', 'Dark Gray']\n",
    "\n",
    "## Uses every color available.\n",
    "#nbList = color_cols\n",
    "\n",
    "## Prepare for testing/training.\n",
    "nbGNB = GaussianNB().fit(nbFrame[nbList], nbFrame['Theme'])\n",
    "nbGNBP = nbGNB.predict(nbFrame[nbList])\n",
    "\n",
    "## Trains with 60% of the data, and leaves 40% for testing.\n",
    "list_train, list_test, theme_train, theme_test = sk.model_selection.train_test_split(\n",
    "    nbFrame[nbList],nbFrame['Theme'], test_size=0.4, random_state=0)\n",
    "\n",
    "## Tests with 40% of the data.\n",
    "nbGNBT = GaussianNB().fit(list_train,theme_train)\n",
    "nbGNBPT = nbGNB.predict(list_test)\n",
    "\n",
    "## Print results.\n",
    "print(\"Accuracy:  \", skm.accuracy_score(y_true=theme_test, y_pred=nbGNBPT))\n",
    "print(\"Precision: \", skm.precision_score(y_true=theme_test, y_pred=nbGNBPT, average='weighted'))\n",
    "print(\"Recall:    \", skm.recall_score(y_true=theme_test, y_pred=nbGNBPT,average='weighted'))\n",
    "print(\"F1 Score:  \", skm.f1_score(y_true=theme_test, y_pred=nbGNBPT, average='weighted'))\n",
    "\n",
    "## Calculate and visualize confusion matrix.\n",
    "nbMat = skm.confusion_matrix(y_true=theme_test, y_pred=nbGNBPT)\n",
    "sns.heatmap(nbMat, xticklabels=nbGNBT.classes_, yticklabels=nbGNBT.classes_, annot=True)\n",
    "plt.xlabel('Predicted Theme')\n",
    "plt.ylabel('Actual Theme')\n",
    "plt.title('Confusion Matrix')"
   ]
  },
  {
   "cell_type": "markdown",
   "metadata": {},
   "source": [
    "## Decision Trees"
   ]
  },
  {
   "cell_type": "code",
   "execution_count": 11,
   "metadata": {
    "collapsed": true
   },
   "outputs": [],
   "source": [
    "from sklearn.tree import DecisionTreeClassifier"
   ]
  },
  {
   "cell_type": "code",
   "execution_count": 12,
   "metadata": {
    "collapsed": true
   },
   "outputs": [],
   "source": [
    "#TODO — Train and test"
   ]
  },
  {
   "cell_type": "markdown",
   "metadata": {},
   "source": [
    "#### Drawing a Decision Tree\n",
    "Rendering decision trees requires the graphviz package. You can install it from the terminal or command line using:\n",
    "> conda install python-graphviz"
   ]
  },
  {
   "cell_type": "code",
   "execution_count": 13,
   "metadata": {},
   "outputs": [
    {
     "ename": "ModuleNotFoundError",
     "evalue": "No module named 'graphviz'",
     "output_type": "error",
     "traceback": [
      "\u001b[1;31m---------------------------------------------------------------------------\u001b[0m",
      "\u001b[1;31mModuleNotFoundError\u001b[0m                       Traceback (most recent call last)",
      "\u001b[1;32m<ipython-input-13-9fba96d7506f>\u001b[0m in \u001b[0;36m<module>\u001b[1;34m()\u001b[0m\n\u001b[1;32m----> 1\u001b[1;33m \u001b[1;32mimport\u001b[0m \u001b[0mgraphviz\u001b[0m\u001b[1;33m\u001b[0m\u001b[0m\n\u001b[0m\u001b[0;32m      2\u001b[0m graph_data = sk.tree.export_graphviz(YOUR_CLASSIFIER, out_file=None,\n\u001b[0;32m      3\u001b[0m                          \u001b[0mfeature_names\u001b[0m\u001b[1;33m=\u001b[0m\u001b[0mYOUR_FEATURE_NAMES\u001b[0m\u001b[1;33m,\u001b[0m\u001b[1;33m\u001b[0m\u001b[0m\n\u001b[0;32m      4\u001b[0m                          \u001b[0mclass_names\u001b[0m\u001b[1;33m=\u001b[0m\u001b[0mYOUR_CLASS_NAMES\u001b[0m\u001b[1;33m,\u001b[0m\u001b[1;33m\u001b[0m\u001b[0m\n\u001b[0;32m      5\u001b[0m                          \u001b[0mfilled\u001b[0m\u001b[1;33m=\u001b[0m\u001b[1;32mTrue\u001b[0m\u001b[1;33m,\u001b[0m \u001b[0mrounded\u001b[0m\u001b[1;33m=\u001b[0m\u001b[1;32mTrue\u001b[0m\u001b[1;33m,\u001b[0m\u001b[1;33m\u001b[0m\u001b[0m\n",
      "\u001b[1;31mModuleNotFoundError\u001b[0m: No module named 'graphviz'"
     ]
    }
   ],
   "source": [
    "import graphviz \n",
    "graph_data = sk.tree.export_graphviz(YOUR_CLASSIFIER, out_file=None,\n",
    "                         feature_names=YOUR_FEATURE_NAMES,  \n",
    "                         class_names=YOUR_CLASS_NAMES,  \n",
    "                         filled=True, rounded=True,  \n",
    "                         special_characters=True) \n",
    "graph = graphviz.Source(graph_data) \n",
    "graph\n",
    "\n",
    "# Or save out to a file using this command:\n",
    "# graph.render(\"decision_tree\") "
   ]
  },
  {
   "cell_type": "markdown",
   "metadata": {},
   "source": [
    "## Random Forest"
   ]
  },
  {
   "cell_type": "code",
   "execution_count": null,
   "metadata": {
    "collapsed": true
   },
   "outputs": [],
   "source": [
    "from sklearn.ensemble import RandomForestClassifier"
   ]
  },
  {
   "cell_type": "code",
   "execution_count": null,
   "metadata": {
    "collapsed": true
   },
   "outputs": [],
   "source": [
    "#TODO — Train and test"
   ]
  },
  {
   "cell_type": "markdown",
   "metadata": {},
   "source": [
    "## Neural Network"
   ]
  },
  {
   "cell_type": "code",
   "execution_count": null,
   "metadata": {
    "collapsed": true
   },
   "outputs": [],
   "source": [
    "from sklearn.neural_network import MLPClassifier"
   ]
  },
  {
   "cell_type": "code",
   "execution_count": null,
   "metadata": {
    "collapsed": true
   },
   "outputs": [],
   "source": [
    "#TODO — Train and test"
   ]
  },
  {
   "cell_type": "code",
   "execution_count": null,
   "metadata": {
    "collapsed": true
   },
   "outputs": [],
   "source": []
  }
 ],
 "metadata": {
  "kernelspec": {
   "display_name": "Python 3",
   "language": "python",
   "name": "python3"
  }
 },
 "nbformat": 4,
 "nbformat_minor": 2
}
