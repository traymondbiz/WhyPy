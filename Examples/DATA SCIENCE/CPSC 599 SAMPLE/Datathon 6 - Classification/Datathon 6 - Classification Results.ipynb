{
 "cells": [
  {
   "cell_type": "markdown",
   "metadata": {},
   "source": [
    "# Datathon #6 - Classification"
   ]
  },
  {
   "cell_type": "markdown",
   "metadata": {},
   "source": [
    "This week, you will train a set of classifiers to label LEGO sets by theme, based on other metadata about the sets (year, number of parts, colors, or some combination of them). \n",
    "\n",
    "You should test at least 5 different classifiers:\n",
    "+ kNN\n",
    "+ Naïve Bayes\n",
    "+ Decision Tree\n",
    "+ Random Forest\n",
    "+ Neural Network\n",
    "\n",
    "\n",
    "For each classifier, report:\n",
    "1. What parameters (if any) you tuned.\n",
    "2. How well it performed. — Report the Accuracy, Precision, Recall, and F1-score. Also render a confusion matrix. (Remember, don’t test on your training data!)\n",
    "3. Your interpretation of the result. Explain what you think the classifier got right/wrong. (Feel free to include visualizations or additional info that helps explain)."
   ]
  },
  {
   "cell_type": "code",
   "execution_count": 1,
   "metadata": {},
   "outputs": [],
   "source": [
    "import numpy as np\n",
    "import scipy as sp\n",
    "import pandas as pd\n",
    "import sklearn as sk\n",
    "import sklearn.metrics as skm\n",
    "\n",
    "import sklearn.model_selection\n",
    "\n",
    "import matplotlib.pyplot as plt\n",
    "%matplotlib inline\n",
    "import seaborn as sns\n",
    "sns.set(style='white', color_codes=True, font_scale=1.3)"
   ]
  },
  {
   "cell_type": "markdown",
   "metadata": {},
   "source": [
    "We will use a variant of the second dataset from last week, adding a \"theme\" column.\n",
    "\n",
    "** LEGO Colors by Set + Theme** — Contains data on the colors of the pieces in each LEGO set.\n",
    "\n",
    "- Set Num = A unique alphanumeric ID number for each set. \n",
    "- Set Name = The official name of the set (some names are reused for more than one set).\n",
    "- Year = The year the set was released.\n",
    "- Num Parts = Total number of parts listed on the box.\n",
    "- Theme = The theme the set was released under (\"Technic\", \"Ninjago\", \"Star Wars\", \"City\", etc.)\n",
    "- [Colors] = Number of parts of each color in the set, according to the Rebrickable database.\n",
    "\n",
    "You can also get more data about individual sets by going to http://rebrickable.com/sets/{SetNum}"
   ]
  },
  {
   "cell_type": "code",
   "execution_count": 2,
   "metadata": {},
   "outputs": [],
   "source": [
    "# Import data, remove NaN\n",
    "lego_frame_full = pd.read_excel('Set Color Data+Themes.xlsx')\n",
    "lego_frame_full.fillna(0, inplace=True)\n",
    "\n",
    "# For this datathon we'll just focus on 10 most popular themes.\n",
    "lego_frame = lego_frame_full[(lego_frame_full[\"Theme\"] == \"Technic\") | \n",
    "                        (lego_frame_full[\"Theme\"] == \"Friends\") |\n",
    "                        (lego_frame_full[\"Theme\"] == \"City\") |\n",
    "                        (lego_frame_full[\"Theme\"] == \"Basic Set\") |\n",
    "                        (lego_frame_full[\"Theme\"] == \"Creator\") |\n",
    "                        (lego_frame_full[\"Theme\"] == \"Duplo\") |\n",
    "                        (lego_frame_full[\"Theme\"] == \"Star Wars\") |\n",
    "                        (lego_frame_full[\"Theme\"] == \"Ninjago\") |\n",
    "                        (lego_frame_full[\"Theme\"] == \"Construction\") |\n",
    "                        (lego_frame_full[\"Theme\"] == \"Airport\")]"
   ]
  },
  {
   "cell_type": "code",
   "execution_count": 3,
   "metadata": {},
   "outputs": [
    {
     "data": {
      "text/html": [
       "<div>\n",
       "<style scoped>\n",
       "    .dataframe tbody tr th:only-of-type {\n",
       "        vertical-align: middle;\n",
       "    }\n",
       "\n",
       "    .dataframe tbody tr th {\n",
       "        vertical-align: top;\n",
       "    }\n",
       "\n",
       "    .dataframe thead th {\n",
       "        text-align: right;\n",
       "    }\n",
       "</style>\n",
       "<table border=\"1\" class=\"dataframe\">\n",
       "  <thead>\n",
       "    <tr style=\"text-align: right;\">\n",
       "      <th></th>\n",
       "      <th>Set Num</th>\n",
       "      <th>Set Name</th>\n",
       "      <th>Theme</th>\n",
       "      <th>Year</th>\n",
       "      <th>Num Parts</th>\n",
       "      <th>[No Color]</th>\n",
       "      <th>Aqua</th>\n",
       "      <th>Black</th>\n",
       "      <th>Blue</th>\n",
       "      <th>Blue-Violet</th>\n",
       "      <th>...</th>\n",
       "      <th>Trans-Very Lt Blue</th>\n",
       "      <th>Trans-Yellow</th>\n",
       "      <th>Unknown</th>\n",
       "      <th>Very Light Bluish Gray</th>\n",
       "      <th>Very Light Gray</th>\n",
       "      <th>Very Light Orange</th>\n",
       "      <th>Violet</th>\n",
       "      <th>White</th>\n",
       "      <th>Yellow</th>\n",
       "      <th>Yellowish Green</th>\n",
       "    </tr>\n",
       "  </thead>\n",
       "  <tbody>\n",
       "    <tr>\n",
       "      <th>4</th>\n",
       "      <td>2823692</td>\n",
       "      <td>Simple and Motorized Machines Activity Pack</td>\n",
       "      <td>Technic</td>\n",
       "      <td>1997</td>\n",
       "      <td>24</td>\n",
       "      <td>24.0</td>\n",
       "      <td>0.0</td>\n",
       "      <td>0.0</td>\n",
       "      <td>0.0</td>\n",
       "      <td>0.0</td>\n",
       "      <td>...</td>\n",
       "      <td>0.0</td>\n",
       "      <td>0.0</td>\n",
       "      <td>0.0</td>\n",
       "      <td>0.0</td>\n",
       "      <td>0.0</td>\n",
       "      <td>0.0</td>\n",
       "      <td>0.0</td>\n",
       "      <td>0.0</td>\n",
       "      <td>0.0</td>\n",
       "      <td>0.0</td>\n",
       "    </tr>\n",
       "    <tr>\n",
       "      <th>8</th>\n",
       "      <td>2818944</td>\n",
       "      <td>Structures Set</td>\n",
       "      <td>Technic</td>\n",
       "      <td>1997</td>\n",
       "      <td>439</td>\n",
       "      <td>20.0</td>\n",
       "      <td>0.0</td>\n",
       "      <td>116.0</td>\n",
       "      <td>56.0</td>\n",
       "      <td>0.0</td>\n",
       "      <td>...</td>\n",
       "      <td>0.0</td>\n",
       "      <td>0.0</td>\n",
       "      <td>0.0</td>\n",
       "      <td>0.0</td>\n",
       "      <td>0.0</td>\n",
       "      <td>0.0</td>\n",
       "      <td>0.0</td>\n",
       "      <td>0.0</td>\n",
       "      <td>0.0</td>\n",
       "      <td>0.0</td>\n",
       "    </tr>\n",
       "    <tr>\n",
       "      <th>10</th>\n",
       "      <td>2814926</td>\n",
       "      <td>Technology Activity Set</td>\n",
       "      <td>Technic</td>\n",
       "      <td>1994</td>\n",
       "      <td>318</td>\n",
       "      <td>17.0</td>\n",
       "      <td>0.0</td>\n",
       "      <td>92.0</td>\n",
       "      <td>2.0</td>\n",
       "      <td>0.0</td>\n",
       "      <td>...</td>\n",
       "      <td>0.0</td>\n",
       "      <td>0.0</td>\n",
       "      <td>0.0</td>\n",
       "      <td>0.0</td>\n",
       "      <td>0.0</td>\n",
       "      <td>0.0</td>\n",
       "      <td>0.0</td>\n",
       "      <td>2.0</td>\n",
       "      <td>1.0</td>\n",
       "      <td>0.0</td>\n",
       "    </tr>\n",
       "  </tbody>\n",
       "</table>\n",
       "<p>3 rows × 136 columns</p>\n",
       "</div>"
      ],
      "text/plain": [
       "    Set Num                                     Set Name    Theme  Year  \\\n",
       "4   2823692  Simple and Motorized Machines Activity Pack  Technic  1997   \n",
       "8   2818944                               Structures Set  Technic  1997   \n",
       "10  2814926                      Technology Activity Set  Technic  1994   \n",
       "\n",
       "    Num Parts  [No Color]  Aqua  Black  Blue  Blue-Violet       ...         \\\n",
       "4          24        24.0   0.0    0.0   0.0          0.0       ...          \n",
       "8         439        20.0   0.0  116.0  56.0          0.0       ...          \n",
       "10        318        17.0   0.0   92.0   2.0          0.0       ...          \n",
       "\n",
       "    Trans-Very Lt Blue  Trans-Yellow  Unknown  Very Light Bluish Gray  \\\n",
       "4                  0.0           0.0      0.0                     0.0   \n",
       "8                  0.0           0.0      0.0                     0.0   \n",
       "10                 0.0           0.0      0.0                     0.0   \n",
       "\n",
       "    Very Light Gray  Very Light Orange  Violet  White  Yellow  Yellowish Green  \n",
       "4               0.0                0.0     0.0    0.0     0.0              0.0  \n",
       "8               0.0                0.0     0.0    0.0     0.0              0.0  \n",
       "10              0.0                0.0     0.0    2.0     1.0              0.0  \n",
       "\n",
       "[3 rows x 136 columns]"
      ]
     },
     "execution_count": 3,
     "metadata": {},
     "output_type": "execute_result"
    }
   ],
   "source": [
    "lego_frame.head(3)"
   ]
  },
  {
   "cell_type": "markdown",
   "metadata": {},
   "source": [
    "Some potentially useful refactorings of the data."
   ]
  },
  {
   "cell_type": "code",
   "execution_count": 4,
   "metadata": {},
   "outputs": [
    {
     "data": {
      "text/html": [
       "<div>\n",
       "<style scoped>\n",
       "    .dataframe tbody tr th:only-of-type {\n",
       "        vertical-align: middle;\n",
       "    }\n",
       "\n",
       "    .dataframe tbody tr th {\n",
       "        vertical-align: top;\n",
       "    }\n",
       "\n",
       "    .dataframe thead th {\n",
       "        text-align: right;\n",
       "    }\n",
       "</style>\n",
       "<table border=\"1\" class=\"dataframe\">\n",
       "  <thead>\n",
       "    <tr style=\"text-align: right;\">\n",
       "      <th></th>\n",
       "      <th>[No Color]</th>\n",
       "      <th>Aqua</th>\n",
       "      <th>Black</th>\n",
       "      <th>Blue</th>\n",
       "      <th>Blue-Violet</th>\n",
       "      <th>Bright Green</th>\n",
       "      <th>Bright Light Blue</th>\n",
       "      <th>Bright Light Orange</th>\n",
       "      <th>Bright Light Yellow</th>\n",
       "      <th>Bright Pink</th>\n",
       "      <th>...</th>\n",
       "      <th>Very Light Orange</th>\n",
       "      <th>Violet</th>\n",
       "      <th>White</th>\n",
       "      <th>Yellow</th>\n",
       "      <th>Yellowish Green</th>\n",
       "      <th>Year</th>\n",
       "      <th>Set Name</th>\n",
       "      <th>Set Num</th>\n",
       "      <th>Theme</th>\n",
       "      <th>Num Parts</th>\n",
       "    </tr>\n",
       "  </thead>\n",
       "  <tbody>\n",
       "    <tr>\n",
       "      <th>4</th>\n",
       "      <td>1.000000</td>\n",
       "      <td>0.0</td>\n",
       "      <td>0.000000</td>\n",
       "      <td>0.000000</td>\n",
       "      <td>0.0</td>\n",
       "      <td>0.0</td>\n",
       "      <td>0.0</td>\n",
       "      <td>0.0</td>\n",
       "      <td>0.0</td>\n",
       "      <td>0.0</td>\n",
       "      <td>...</td>\n",
       "      <td>0.0</td>\n",
       "      <td>0.0</td>\n",
       "      <td>0.000000</td>\n",
       "      <td>0.000000</td>\n",
       "      <td>0.0</td>\n",
       "      <td>1997</td>\n",
       "      <td>Simple and Motorized Machines Activity Pack</td>\n",
       "      <td>2823692</td>\n",
       "      <td>Technic</td>\n",
       "      <td>24</td>\n",
       "    </tr>\n",
       "    <tr>\n",
       "      <th>8</th>\n",
       "      <td>0.045558</td>\n",
       "      <td>0.0</td>\n",
       "      <td>0.264237</td>\n",
       "      <td>0.127563</td>\n",
       "      <td>0.0</td>\n",
       "      <td>0.0</td>\n",
       "      <td>0.0</td>\n",
       "      <td>0.0</td>\n",
       "      <td>0.0</td>\n",
       "      <td>0.0</td>\n",
       "      <td>...</td>\n",
       "      <td>0.0</td>\n",
       "      <td>0.0</td>\n",
       "      <td>0.000000</td>\n",
       "      <td>0.000000</td>\n",
       "      <td>0.0</td>\n",
       "      <td>1997</td>\n",
       "      <td>Structures Set</td>\n",
       "      <td>2818944</td>\n",
       "      <td>Technic</td>\n",
       "      <td>439</td>\n",
       "    </tr>\n",
       "    <tr>\n",
       "      <th>10</th>\n",
       "      <td>0.051360</td>\n",
       "      <td>0.0</td>\n",
       "      <td>0.277946</td>\n",
       "      <td>0.006042</td>\n",
       "      <td>0.0</td>\n",
       "      <td>0.0</td>\n",
       "      <td>0.0</td>\n",
       "      <td>0.0</td>\n",
       "      <td>0.0</td>\n",
       "      <td>0.0</td>\n",
       "      <td>...</td>\n",
       "      <td>0.0</td>\n",
       "      <td>0.0</td>\n",
       "      <td>0.006042</td>\n",
       "      <td>0.003021</td>\n",
       "      <td>0.0</td>\n",
       "      <td>1994</td>\n",
       "      <td>Technology Activity Set</td>\n",
       "      <td>2814926</td>\n",
       "      <td>Technic</td>\n",
       "      <td>318</td>\n",
       "    </tr>\n",
       "  </tbody>\n",
       "</table>\n",
       "<p>3 rows × 136 columns</p>\n",
       "</div>"
      ],
      "text/plain": [
       "    [No Color]  Aqua     Black      Blue  Blue-Violet  Bright Green  \\\n",
       "4     1.000000   0.0  0.000000  0.000000          0.0           0.0   \n",
       "8     0.045558   0.0  0.264237  0.127563          0.0           0.0   \n",
       "10    0.051360   0.0  0.277946  0.006042          0.0           0.0   \n",
       "\n",
       "    Bright Light Blue  Bright Light Orange  Bright Light Yellow  Bright Pink  \\\n",
       "4                 0.0                  0.0                  0.0          0.0   \n",
       "8                 0.0                  0.0                  0.0          0.0   \n",
       "10                0.0                  0.0                  0.0          0.0   \n",
       "\n",
       "      ...      Very Light Orange  Violet     White    Yellow  Yellowish Green  \\\n",
       "4     ...                    0.0     0.0  0.000000  0.000000              0.0   \n",
       "8     ...                    0.0     0.0  0.000000  0.000000              0.0   \n",
       "10    ...                    0.0     0.0  0.006042  0.003021              0.0   \n",
       "\n",
       "    Year                                     Set Name  Set Num    Theme  \\\n",
       "4   1997  Simple and Motorized Machines Activity Pack  2823692  Technic   \n",
       "8   1997                               Structures Set  2818944  Technic   \n",
       "10  1994                      Technology Activity Set  2814926  Technic   \n",
       "\n",
       "    Num Parts  \n",
       "4          24  \n",
       "8         439  \n",
       "10        318  \n",
       "\n",
       "[3 rows x 136 columns]"
      ]
     },
     "execution_count": 4,
     "metadata": {},
     "output_type": "execute_result"
    }
   ],
   "source": [
    "# Creates a copy of the dataframe where color counts are normalized \n",
    "#  so each gives the % of parts in the set with that color, rather than the total count.\n",
    "norm_lego = lego_frame.copy()\n",
    "norm_lego = norm_lego.drop([ 'Set Name', 'Set Num', 'Theme', 'Year', 'Num Parts'], axis=1)\n",
    "norm_lego = norm_lego.div(norm_lego.sum(axis=1), axis=0)\n",
    "\n",
    "# A list of all the color name columns\n",
    "color_cols = norm_lego.columns\n",
    "# A list of all the other numeric columns\n",
    "other_cols = [\"Year\", \"Num Parts\"]\n",
    "\n",
    "\n",
    "\n",
    "# Add back the non-numeric columns to the normalized table\n",
    "norm_lego[\"Year\"] = lego_frame[\"Year\"]\n",
    "norm_lego[\"Set Name\"] = lego_frame[\"Set Name\"]\n",
    "norm_lego[\"Set Num\"] = lego_frame[\"Set Num\"]\n",
    "norm_lego[\"Theme\"] = lego_frame[\"Theme\"]\n",
    "norm_lego[\"Num Parts\"] = lego_frame[\"Num Parts\"]\n",
    "norm_lego.head(3)"
   ]
  },
  {
   "cell_type": "code",
   "execution_count": 5,
   "metadata": {},
   "outputs": [
    {
     "data": {
      "image/png": "[encoded data removed]",
      "text/plain": [
       "<matplotlib.figure.Figure at 0x1f26cfd7470>"
      ]
     },
     "metadata": {},
     "output_type": "display_data"
    }
   ],
   "source": [
    "_ = pd.plotting.scatter_matrix(norm_lego[['Theme','Num Parts','Year']], figsize=(8,8))"
   ]
  },
  {
   "cell_type": "code",
   "execution_count": 6,
   "metadata": {},
   "outputs": [
    {
     "data": {
      "text/plain": [
       "['[No Color]',\n",
       " 'Aqua',\n",
       " 'Black',\n",
       " 'Blue',\n",
       " 'Blue-Violet',\n",
       " 'Bright Green',\n",
       " 'Bright Light Blue',\n",
       " 'Bright Light Orange',\n",
       " 'Bright Light Yellow',\n",
       " 'Bright Pink',\n",
       " 'Brown',\n",
       " 'Chrome Antique Brass',\n",
       " 'Chrome Black',\n",
       " 'Chrome Blue',\n",
       " 'Chrome Gold',\n",
       " 'Chrome Green',\n",
       " 'Chrome Pink',\n",
       " 'Chrome Silver',\n",
       " 'Copper',\n",
       " 'Dark Azure',\n",
       " 'Dark Blue',\n",
       " 'Dark Blue-Violet',\n",
       " 'Dark Bluish Gray',\n",
       " 'Dark Brown',\n",
       " 'Dark Flesh',\n",
       " 'Dark Gray',\n",
       " 'Dark Green',\n",
       " 'Dark Orange',\n",
       " 'Dark Pink',\n",
       " 'Dark Purple',\n",
       " 'Dark Red',\n",
       " 'Dark Tan',\n",
       " 'Dark Turquoise',\n",
       " 'Earth Orange',\n",
       " 'Fabuland Brown',\n",
       " 'Flat Dark Gold',\n",
       " 'Flat Silver',\n",
       " 'Flesh',\n",
       " 'Glitter Trans-Clear',\n",
       " 'Glitter Trans-Dark Pink',\n",
       " 'Glitter Trans-Light Blue',\n",
       " 'Glitter Trans-Neon Green',\n",
       " 'Glitter Trans-Purple',\n",
       " 'Glow In Dark Opaque',\n",
       " 'Glow In Dark Trans',\n",
       " 'Glow in Dark White',\n",
       " 'Green',\n",
       " 'Lavender',\n",
       " 'Light Aqua',\n",
       " 'Light Blue',\n",
       " 'Light Bluish Gray',\n",
       " 'Light Flesh',\n",
       " 'Light Gray',\n",
       " 'Light Green',\n",
       " 'Light Lime',\n",
       " 'Light Orange',\n",
       " 'Light Pink',\n",
       " 'Light Purple',\n",
       " 'Light Salmon',\n",
       " 'Light Turquoise',\n",
       " 'Light Violet',\n",
       " 'Light Yellow',\n",
       " 'Lime',\n",
       " 'Maersk Blue',\n",
       " 'Magenta',\n",
       " 'Medium Azure',\n",
       " 'Medium Blue',\n",
       " 'Medium Dark Flesh',\n",
       " 'Medium Dark Pink',\n",
       " 'Medium Green',\n",
       " 'Medium Lavender',\n",
       " 'Medium Lime',\n",
       " 'Medium Orange',\n",
       " 'Medium Violet',\n",
       " 'Metal Blue',\n",
       " 'Metallic Gold',\n",
       " 'Metallic Green',\n",
       " 'Metallic Silver',\n",
       " 'Milky White',\n",
       " 'Olive Green',\n",
       " 'Orange',\n",
       " 'Pearl Dark Gray',\n",
       " 'Pearl Gold',\n",
       " 'Pearl Light Gold',\n",
       " 'Pearl Light Gray',\n",
       " 'Pearl Very Light Gray',\n",
       " 'Pearl White',\n",
       " 'Pink',\n",
       " 'Purple',\n",
       " 'Red',\n",
       " 'Reddish Brown',\n",
       " 'Royal Blue',\n",
       " 'Rust',\n",
       " 'Salmon',\n",
       " 'Sand Blue',\n",
       " 'Sand Green',\n",
       " 'Sand Purple',\n",
       " 'Sand Red',\n",
       " 'Sky Blue',\n",
       " 'Speckle Black-Copper',\n",
       " 'Speckle Black-Gold',\n",
       " 'Speckle Black-Silver',\n",
       " 'Speckle DBGray-Silver',\n",
       " 'Tan',\n",
       " 'Trans Light Royal Blue',\n",
       " 'Trans-Black',\n",
       " 'Trans-Bright Green',\n",
       " 'Trans-Clear',\n",
       " 'Trans-Dark Blue',\n",
       " 'Trans-Dark Pink',\n",
       " 'Trans-Green',\n",
       " 'Trans-Light Blue',\n",
       " 'Trans-Light Purple',\n",
       " 'Trans-Medium Blue',\n",
       " 'Trans-Neon Green',\n",
       " 'Trans-Neon Orange',\n",
       " 'Trans-Neon Yellow',\n",
       " 'Trans-Orange',\n",
       " 'Trans-Pink',\n",
       " 'Trans-Purple',\n",
       " 'Trans-Red',\n",
       " 'Trans-Very Lt Blue',\n",
       " 'Trans-Yellow',\n",
       " 'Unknown',\n",
       " 'Very Light Bluish Gray',\n",
       " 'Very Light Gray',\n",
       " 'Very Light Orange',\n",
       " 'Violet',\n",
       " 'White',\n",
       " 'Yellow',\n",
       " 'Yellowish Green',\n",
       " 'Year',\n",
       " 'Set Name',\n",
       " 'Set Num',\n",
       " 'Theme',\n",
       " 'Num Parts']"
      ]
     },
     "execution_count": 6,
     "metadata": {},
     "output_type": "execute_result"
    }
   ],
   "source": [
    "list(norm_lego.columns.values)"
   ]
  },
  {
   "cell_type": "markdown",
   "metadata": {},
   "source": [
    "## Training and Test Splits\n",
    "Make sure you don't accidentally test on your training data."
   ]
  },
  {
   "cell_type": "code",
   "execution_count": null,
   "metadata": {},
   "outputs": [],
   "source": []
  },
  {
   "cell_type": "markdown",
   "metadata": {},
   "source": [
    "## k-Nearest Neighbors"
   ]
  },
  {
   "cell_type": "code",
   "execution_count": 7,
   "metadata": {},
   "outputs": [],
   "source": [
    "from sklearn.neighbors import KNeighborsClassifier\n",
    "\n",
    "# Be sure to look at the available parameters on each classifier.\n",
    "# For example, you might want to experiment with the number of neighbours here. \n",
    "\n",
    "#n=4   \n",
    "#lego_knn = KNeighborsClassifier(n_neighbors=n)\n",
    "#lego_knn.fit(YOUR_TRAINING_INPUTS, YOUR_TRAINING_LABELS) #TODO — substitute in your own training data"
   ]
  },
  {
   "cell_type": "code",
   "execution_count": null,
   "metadata": {},
   "outputs": [],
   "source": []
  },
  {
   "cell_type": "markdown",
   "metadata": {},
   "source": [
    "## Naive Bayes"
   ]
  },
  {
   "cell_type": "code",
   "execution_count": 8,
   "metadata": {},
   "outputs": [],
   "source": [
    "from sklearn.naive_bayes import GaussianNB"
   ]
  },
  {
   "cell_type": "code",
   "execution_count": 9,
   "metadata": {},
   "outputs": [],
   "source": [
    "#TODO — Train and test"
   ]
  },
  {
   "cell_type": "markdown",
   "metadata": {},
   "source": [
    "## Decision Trees"
   ]
  },
  {
   "cell_type": "code",
   "execution_count": 10,
   "metadata": {},
   "outputs": [],
   "source": [
    "from sklearn.tree import DecisionTreeClassifier\n",
    "from random import randint"
   ]
  },
  {
   "cell_type": "code",
   "execution_count": 11,
   "metadata": {},
   "outputs": [
    {
     "data": {
      "text/plain": [
       "array(['Technic'], dtype=object)"
      ]
     },
     "execution_count": 11,
     "metadata": {},
     "output_type": "execute_result"
    }
   ],
   "source": [
    "lego1 = \"Year\"\n",
    "lego2 = \"Num Parts\"\n",
    "l_train, l_test, theme_train, theme_test = sk.model_selection.train_test_split(\n",
    "    lego_frame[[lego1,lego2]],lego_frame['Theme'], test_size=0.4, random_state=0)\n",
    "dtree = DecisionTreeClassifier()\n",
    "treeFit = dtree.fit(l_train, theme_train)\n",
    "lego_predictions_test = dtree.predict(l_test)\n",
    "motor = np.array([[1997, 439]])\n",
    "p = treeFit.predict(motor)\n",
    "p  # Expected 'Technic\""
   ]
  },
  {
   "cell_type": "code",
   "execution_count": 12,
   "metadata": {},
   "outputs": [
    {
     "data": {
      "text/plain": [
       "0.4497907949790795"
      ]
     },
     "execution_count": 12,
     "metadata": {},
     "output_type": "execute_result"
    }
   ],
   "source": [
    "accuracy = skm.accuracy_score(y_true=theme_test,\n",
    "                   y_pred=lego_predictions_test)\n",
    "accuracy"
   ]
  },
  {
   "cell_type": "code",
   "execution_count": 13,
   "metadata": {},
   "outputs": [
    {
     "data": {
      "text/plain": [
       "0.4458132218293639"
      ]
     },
     "execution_count": 13,
     "metadata": {},
     "output_type": "execute_result"
    }
   ],
   "source": [
    "precision =  skm.precision_score(y_true=theme_test,\n",
    "                    y_pred=lego_predictions_test,\n",
    "                    average='weighted')\n",
    "precision "
   ]
  },
  {
   "cell_type": "code",
   "execution_count": 14,
   "metadata": {},
   "outputs": [
    {
     "data": {
      "text/plain": [
       "0.4497907949790795"
      ]
     },
     "execution_count": 14,
     "metadata": {},
     "output_type": "execute_result"
    }
   ],
   "source": [
    "recall = skm.recall_score(y_true=theme_test,\n",
    "                 y_pred=lego_predictions_test,\n",
    "                 average='weighted') \n",
    "recall "
   ]
  },
  {
   "cell_type": "code",
   "execution_count": 15,
   "metadata": {},
   "outputs": [
    {
     "data": {
      "text/plain": [
       "0.4456871990092766"
      ]
     },
     "execution_count": 15,
     "metadata": {},
     "output_type": "execute_result"
    }
   ],
   "source": [
    "F1 = skm.f1_score(y_true=theme_test,\n",
    "             y_pred=lego_predictions_test,\n",
    "             average='weighted')\n",
    "F1"
   ]
  },
  {
   "cell_type": "code",
   "execution_count": 16,
   "metadata": {},
   "outputs": [
    {
     "data": {
      "text/plain": [
       "array([[ 26,   6,   1,  14,   3,   2,   1,   2,   0,  17],\n",
       "       [ 11,  60,   1,  12,   4,   1,   3,   4,   3,   4],\n",
       "       [  1,   5,  64,   0,   3,   6,  10,   4,   8,   4],\n",
       "       [ 13,  16,   2,  19,   3,   2,   2,   1,   2,  11],\n",
       "       [  4,   8,   7,   4,  47,  11,   7,   4,   5,   7],\n",
       "       [  3,   4,  15,   3,   6,  26,  10,   6,  12,   4],\n",
       "       [  1,   0,   7,   0,   6,  15,  43,   7,  16,   3],\n",
       "       [  2,   1,   6,   2,  15,  13,  15,  20,  10,   2],\n",
       "       [  0,   4,  13,   0,   6,   7,  13,   5,  16,   3],\n",
       "       [ 10,  14,   1,   4,   4,   7,   4,   3,   5, 109]], dtype=int64)"
      ]
     },
     "execution_count": 16,
     "metadata": {},
     "output_type": "execute_result"
    }
   ],
   "source": [
    "lego_cfmat = skm.confusion_matrix(\n",
    "    y_true=theme_test,\n",
    "    y_pred=lego_predictions_test,)\n",
    "lego_cfmat"
   ]
  },
  {
   "cell_type": "code",
   "execution_count": 17,
   "metadata": {},
   "outputs": [
    {
     "data": {
      "text/plain": [
       "Text(0.5,1,'Confusion Matrix')"
      ]
     },
     "execution_count": 17,
     "metadata": {},
     "output_type": "execute_result"
    },
    {
     "data": {
      "image/png": "[encoded data removed]",
      "text/plain": [
       "<matplotlib.figure.Figure at 0x1f2712ed7b8>"
      ]
     },
     "metadata": {},
     "output_type": "display_data"
    }
   ],
   "source": [
    "sns.heatmap(lego_cfmat, \n",
    "            xticklabels=dtree.classes_,\n",
    "            yticklabels=dtree.classes_,\n",
    "            annot=True)\n",
    "plt.xlabel('predicted label')\n",
    "plt.ylabel('true label')\n",
    "plt.title('Confusion Matrix')\n"
   ]
  },
  {
   "cell_type": "markdown",
   "metadata": {},
   "source": [
    "#### Drawing a Decision Tree\n",
    "Rendering decision trees requires the graphviz package. You can install it from the terminal or command line using:\n",
    "> conda install python-graphviz"
   ]
  },
  {
   "cell_type": "code",
   "execution_count": 18,
   "metadata": {},
   "outputs": [
    {
     "ename": "ModuleNotFoundError",
     "evalue": "No module named 'graphviz'",
     "output_type": "error",
     "traceback": [
      "\u001b[1;31m---------------------------------------------------------------------------\u001b[0m",
      "\u001b[1;31mModuleNotFoundError\u001b[0m                       Traceback (most recent call last)",
      "\u001b[1;32m<ipython-input-18-951b91a2c22f>\u001b[0m in \u001b[0;36m<module>\u001b[1;34m()\u001b[0m\n\u001b[1;32m----> 1\u001b[1;33m \u001b[1;32mimport\u001b[0m \u001b[0mgraphviz\u001b[0m\u001b[1;33m\u001b[0m\u001b[0m\n\u001b[0m\u001b[0;32m      2\u001b[0m graph_data = sk.tree.export_graphviz(YOUR_CLASSIFIER, out_file=None,\n\u001b[0;32m      3\u001b[0m                          \u001b[0mfeature_names\u001b[0m\u001b[1;33m=\u001b[0m\u001b[0mYOUR_FEATURE_NAMES\u001b[0m\u001b[1;33m,\u001b[0m\u001b[1;33m\u001b[0m\u001b[0m\n\u001b[0;32m      4\u001b[0m                          \u001b[0mclass_names\u001b[0m\u001b[1;33m=\u001b[0m\u001b[0mYOUR_CLASS_NAMES\u001b[0m\u001b[1;33m,\u001b[0m\u001b[1;33m\u001b[0m\u001b[0m\n\u001b[0;32m      5\u001b[0m                          \u001b[0mfilled\u001b[0m\u001b[1;33m=\u001b[0m\u001b[1;32mTrue\u001b[0m\u001b[1;33m,\u001b[0m \u001b[0mrounded\u001b[0m\u001b[1;33m=\u001b[0m\u001b[1;32mTrue\u001b[0m\u001b[1;33m,\u001b[0m\u001b[1;33m\u001b[0m\u001b[0m\n",
      "\u001b[1;31mModuleNotFoundError\u001b[0m: No module named 'graphviz'"
     ]
    }
   ],
   "source": [
    "import graphviz \n",
    "graph_data = sk.tree.export_graphviz(YOUR_CLASSIFIER, out_file=None,\n",
    "                         feature_names=YOUR_FEATURE_NAMES,  \n",
    "                         class_names=YOUR_CLASS_NAMES,  \n",
    "                         filled=True, rounded=True,  \n",
    "                         special_characters=True) \n",
    "graph = graphviz.Source(graph_data) \n",
    "graph\n",
    "\n",
    "# Or save out to a file using this command:\n",
    "# graph.render(\"decision_tree\") "
   ]
  },
  {
   "cell_type": "markdown",
   "metadata": {},
   "source": [
    "## Random Forest"
   ]
  },
  {
   "cell_type": "code",
   "execution_count": null,
   "metadata": {},
   "outputs": [],
   "source": [
    "# Generate test and training sets\n",
    "from sklearn.model_selection import train_test_split\n",
    "from sklearn.ensemble import RandomForestClassifier\n",
    "import matplotlib.pyplot as plt\n",
    "import numpy as np\n",
    "%matplotlib inline\n"
   ]
  },
  {
   "cell_type": "markdown",
   "metadata": {},
   "source": [
    "First, to avoid overfitting, I went about fitting the classifier over all of the non-unique, non-float columns. Then I looked at the feature importances. Year affects the weight for classifying more than others, followed by 'Num Parts'"
   ]
  },
  {
   "cell_type": "code",
   "execution_count": null,
   "metadata": {},
   "outputs": [],
   "source": [
    "#Combine all the non-float columns\n",
    "combined_cols = pd.Series(color_cols).append(pd.Series(other_cols)).values\n",
    "\n",
    "#Split Data\n",
    "RandomTrees_Feat_Train, RandomTrees_Feat_Test,RandomTrees_Feat_Theme_Train, RandomTrees_Feat_Theme_Test = train_test_split(norm_lego[combined_cols], norm_lego['Theme'], test_size=0.4, random_state=0)\n",
    "\n",
    "#Fit over All the columns.\n",
    "randomclassifier = RandomForestClassifier(n_estimators=250, random_state=0)\n",
    "#Train over training data\n",
    "randomclassifier = randomclassifier.fit(RandomTrees_Feat_Train,RandomTrees_Feat_Theme_Train)\n",
    "model = randomclassifier\n",
    "#Perform predictions with the test data.\n",
    "randomtrees_predictions_test = model.predict(RandomTrees_Feat_Test)\n",
    "\n",
    "#Zipped up the list of feature importances with labels.\n",
    "featureImportance = list(zip(RandomTrees_Feat_Train, model.feature_importances_))\n",
    "#Sort from greatest to least\n",
    "sorted_featureImp = sorted(featureImportance, key=lambda x: x[1],reverse=True)\n",
    "df_featureImp = pd.DataFrame(sorted_featureImp)\n",
    "\n",
    "#Took the top 20 and set index for labelling in chart \n",
    "top20_features = df_featureImp.head(20)\n",
    "top20_features = top20_features.set_index(0)\n",
    "\n",
    "#Plot data on chart\n",
    "top20_features.plot(kind='bar',legend=False,figsize=(5,5))\n",
    "plt.title(\"Feature Importances\")\n",
    "plt.xlabel(\"Features\")\n",
    "plt.ylabel(\"Importances\")\n",
    "plt.show()\n",
    "\n",
    "print(top20_features)\n"
   ]
  },
  {
   "cell_type": "markdown",
   "metadata": {},
   "source": [
    "I decided to play with the features that had weight importance > 0.05. \n",
    "Next I looked at correlations just to potentially ignore certain features if there's a pair strongly correlated. As show below, no such pair exists."
   ]
  },
  {
   "cell_type": "code",
   "execution_count": null,
   "metadata": {},
   "outputs": [],
   "source": [
    "pick6 = ['Year','Num Parts','Yellow','White','Black','Red']\n",
    "pick2 = ['Year','Num Parts']\n",
    "norm_lego[pick6].corr()\n"
   ]
  },
  {
   "cell_type": "markdown",
   "metadata": {},
   "source": [
    "Now suppose we take these values and fit the random trees over these particular columns. "
   ]
  },
  {
   "cell_type": "code",
   "execution_count": null,
   "metadata": {},
   "outputs": [],
   "source": [
    "RandomTrees_YearPart_Train, RandomTrees_YearPart_Test,RandomTrees_Theme_Train, RandomTrees_Theme_Test = train_test_split(norm_lego[pick6], \n",
    "                                                                                                                         norm_lego['Theme'], test_size=0.4, random_state=0)\n",
    "#Columns selected = ['Year','Num Parts','Yellow','White','Black','Red']\n",
    "randomclassifier = RandomForestClassifier(n_estimators=250, random_state=0,bootstrap=True)\n",
    "randomclassifier = randomclassifier.fit(RandomTrees_YearPart_Train,RandomTrees_Theme_Train)\n",
    "model = randomclassifier\n",
    "randomtrees_predictions_test = model.predict(RandomTrees_YearPart_Test)\n",
    "\n",
    "#How well it performed. — Report the Accuracy, Precision, Recall, and F1-score. Also render a confusion matrix.\n",
    "#(Remember, don’t test on your training data!)\n",
    "\n",
    "rand_acc = skm.accuracy_score(y_true=RandomTrees_Theme_Test,\n",
    "                   y_pred=randomtrees_predictions_test)\n",
    "\n",
    "rand_prec =  skm.precision_score(y_true=RandomTrees_Theme_Test,\n",
    "                    y_pred=randomtrees_predictions_test,\n",
    "                    average='weighted')\n",
    "\n",
    "rand_rec = skm.recall_score(y_true=RandomTrees_Theme_Test,\n",
    "                 y_pred=randomtrees_predictions_test,\n",
    "                 average='weighted') \n",
    "\n",
    "rand_F1 = skm.f1_score(y_true=RandomTrees_Theme_Test,\n",
    "             y_pred=randomtrees_predictions_test,\n",
    "             average='weighted')\n",
    "\n",
    "print(\"Accuracy: \"+str(rand_acc))\n",
    "print(\"Precision: \"+str(rand_prec))\n",
    "print(\"Recall: \"+str(rand_rec))\n",
    "print(\"F1 Score: \"+str(rand_F1))\n"
   ]
  },
  {
   "cell_type": "markdown",
   "metadata": {},
   "source": [
    "Below I just take the first two columns 'Year' and 'Num Parts' to compare. These two have bigger differences to the other values."
   ]
  },
  {
   "cell_type": "code",
   "execution_count": null,
   "metadata": {},
   "outputs": [],
   "source": [
    "RandomTrees_YearPart_Train, RandomTrees_YearPart_Test,RandomTrees_Theme_Train, RandomTrees_Theme_Test = train_test_split(norm_lego[pick2], \n",
    "                                                                                                                         norm_lego['Theme'], test_size=0.4, random_state=0)\n",
    "#Selected Features: 'Year' and 'Num Parts'\n",
    "randomclassifier = RandomForestClassifier(n_estimators=250, random_state=0,bootstrap=True)\n",
    "randomclassifier = randomclassifier.fit(RandomTrees_YearPart_Train,RandomTrees_Theme_Train)\n",
    "model = randomclassifier\n",
    "randomtrees_predictions_yearpart_test = model.predict(RandomTrees_YearPart_Test)\n",
    "\n",
    "#How well it performed. — Report the Accuracy, Precision, Recall, and F1-score. Also render a confusion matrix.\n",
    "#(Remember, don’t test on your training data!)\n",
    "\n",
    "rand_acc = skm.accuracy_score(y_true=RandomTrees_Theme_Test,\n",
    "                   y_pred=randomtrees_predictions_yearpart_test)\n",
    "rand_prec =  skm.precision_score(y_true=RandomTrees_Theme_Test,\n",
    "                    y_pred=randomtrees_predictions_yearpart_test,\n",
    "                    average='weighted')\n",
    "\n",
    "rand_rec = skm.recall_score(y_true=RandomTrees_Theme_Test,\n",
    "                 y_pred=randomtrees_predictions_yearpart_test,\n",
    "                 average='weighted') \n",
    "\n",
    "rand_F1 = skm.f1_score(y_true=RandomTrees_Theme_Test,\n",
    "             y_pred=randomtrees_predictions_yearpart_test,\n",
    "             average='weighted')\n",
    "\n",
    "print(\"Accuracy: \"+str(rand_acc))\n",
    "print(\"Precision: \"+str(rand_prec))\n",
    "print(\"Recall: \"+str(rand_rec))\n",
    "print(\"F1 Score: \"+str(rand_F1))\n"
   ]
  },
  {
   "cell_type": "markdown",
   "metadata": {},
   "source": [
    "This results in massively different values arise, suggesting to take more columns rather than less. However, that is probably because of overfitting. After all, the 0.05 threshold is arbitrary as there is not as much of a gap from >0.05 values and >0.04 values compared to the gap of >0.07 values. Thsu, we'll stick with the latter pick 2 select 'Year' and 'Num Parts'"
   ]
  },
  {
   "cell_type": "code",
   "execution_count": null,
   "metadata": {},
   "outputs": [],
   "source": [
    "rand_lego_cfm = skm.confusion_matrix(\n",
    "    y_true=RandomTrees_Theme_Test,\n",
    "    y_pred=randomtrees_predictions_yearpart_test)\n",
    "rand_lego_cfm\n",
    "\n",
    "\n"
   ]
  },
  {
   "cell_type": "code",
   "execution_count": null,
   "metadata": {},
   "outputs": [],
   "source": [
    "sns.heatmap(rand_lego_cfm, \n",
    "            xticklabels=randomclassifier.classes_,\n",
    "            yticklabels=randomclassifier.classes_,\n",
    "            annot=True)\n",
    "plt.xlabel('predicted label')\n",
    "plt.ylabel('true label')\n",
    "plt.title('Confusion Matrix')\n"
   ]
  },
  {
   "cell_type": "markdown",
   "metadata": {},
   "source": [
    "This classifier has a problem with Identifying the 'Construction set' from 'Basic Set' and to a lesser extent from 'Airport' & 'Technic'. 'Star Wars' also causes confusion as does 'Duplo'. There is also problem is identifying the 'Ninjago' Theme from the 'Friends' Theme.\n",
    "\n",
    "It is good at identifying 'Technic', 'Basic Set' and 'City'. I tried to find some reason by looking at commonalities in columns selected between these themes."
   ]
  },
  {
   "cell_type": "code",
   "execution_count": null,
   "metadata": {
    "scrolled": false
   },
   "outputs": [],
   "source": [
    "\n",
    "RandTree_Valid_df = norm_lego[['Num Parts','Theme']]\n",
    "num_parts_theme_sum = RandTree_Valid_df.groupby(['Theme']).sum()\n",
    "num_parts_theme_mean = RandTree_Valid_df.groupby(['Theme']).mean()\n",
    "num_parts_theme_mode = RandTree_Valid_df.groupby(['Theme']).agg(lambda x:x.value_counts().index[0])\n",
    "fig1 = plt.figure(figsize=[5,5])\n",
    "fig, axs = plt.subplots(figsize=[15,5], ncols=3)\n",
    "ax1, ax2,ax3 = axs\n",
    "print(\"Yellow marks strong classification/less confusion. Red marks weak classification/more confusion\")\n",
    "\n",
    "#Plot Charts\n",
    "num_parts_theme_sum.plot(kind='bar',ax=ax1,legend=False,title='Sum of Parts')\n",
    "num_parts_theme_mean.plot(kind='bar',ax=ax2,legend=False, title='Average # Parts')\n",
    "num_parts_theme_mode.plot(kind='bar',ax=ax3,legend=False, title='Most often occurence # Parts')\n",
    "\n",
    "#Highlight bars of interest.\n",
    "highlight = 'Construction'\n",
    "pos = num_parts_theme_sum.index.get_loc(highlight)\n",
    "ax1.patches[pos].set_facecolor('#aa3333')\n",
    "ax2.patches[pos].set_facecolor('#aa3333')\n",
    "ax3.patches[pos].set_facecolor('#aa3333')\n",
    "\n",
    "highlight = 'Star Wars'\n",
    "pos = num_parts_theme_sum.index.get_loc(highlight)\n",
    "ax1.patches[pos].set_facecolor('#aa3333')\n",
    "ax2.patches[pos].set_facecolor('#aa3333')\n",
    "ax3.patches[pos].set_facecolor('#aa3333')\n",
    "\n",
    "\n",
    "highlight = 'Ninjago'\n",
    "pos = num_parts_theme_sum.index.get_loc(highlight)\n",
    "ax1.patches[pos].set_facecolor('#aa3333')\n",
    "ax2.patches[pos].set_facecolor('#aa3333')\n",
    "ax3.patches[pos].set_facecolor('#aa3333')\n",
    "\n",
    "highlight='Basic Set'\n",
    "pos = num_parts_theme_sum.index.get_loc(highlight)\n",
    "ax1.patches[pos].set_facecolor('#fffd9b')\n",
    "ax2.patches[pos].set_facecolor('#fffd9b')\n",
    "ax3.patches[pos].set_facecolor('#fffd9b')\n",
    "\n",
    "highlight='Technic'\n",
    "pos = num_parts_theme_sum.index.get_loc(highlight)\n",
    "ax1.patches[pos].set_facecolor('#fffd9b')\n",
    "ax2.patches[pos].set_facecolor('#fffd9b')\n",
    "ax3.patches[pos].set_facecolor('#fffd9b')\n",
    "\n",
    "\n",
    "highlight='City'\n",
    "pos = num_parts_theme_sum.index.get_loc(highlight)\n",
    "ax1.patches[pos].set_facecolor('#fffd9b')\n",
    "ax2.patches[pos].set_facecolor('#fffd9b')\n",
    "ax3.patches[pos].set_facecolor('#fffd9b')\n",
    "\n",
    "\n",
    "\n",
    "plt.show()\n",
    "\n",
    "RandTree_Valid_df_yt = norm_lego[['Year','Theme']]\n",
    "\n",
    "#Observed distribution. Unsure if I can make any claims to similarities between them.\n",
    "#_ = RandTree_Valid_df_yt.hist(layout=(2,5), figsize=(10,10), by='Theme')\n",
    "\n",
    "year_theme = RandTree_Valid_df_yt.groupby(['Theme']).agg(lambda x:x.value_counts().index[0])\n",
    "year_theme.sort_values('Year')"
   ]
  },
  {
   "cell_type": "markdown",
   "metadata": {},
   "source": [
    "Looking more at the above values 'City' and 'Duplo' have similar # of parts and the same most common year for that theme so that might be where the confusion arises. 'Basic Set' is quite uinque in its most common year and the size of its set which I guess made it easier for the classifier to identify. 'Ninjago' & 'Friends' though don't have that surface level closeness in these features so it's a little wierd about the confusion. 'Construction' is average in the Num_Parts despite a different common year. 'Star Wars' shares quite a bunch of similarities with other themes. "
   ]
  },
  {
   "cell_type": "markdown",
   "metadata": {},
   "source": [
    "## Neural Network"
   ]
  },
  {
   "cell_type": "code",
   "execution_count": null,
   "metadata": {},
   "outputs": [],
   "source": [
    "from sklearn.neural_network import MLPClassifier\n",
    "hw_train, hw_test, theme_train, theme_test = sk.model_selection.train_test_split(norm_lego[color_cols],norm_lego['Theme'], test_size=0.4, random_state=0)\n",
    "lego_test = MLPClassifier(hidden_layer_sizes=(200, 200), solver=\"lbfgs\", learning_rate=\"adaptive\", max_iter=400).fit(hw_train, theme_train)\n",
    "lego_predictions = lego_test.predict(hw_test)\n",
    "\n",
    "print(\"Accuracy: \" + str(skm.accuracy_score(y_true=theme_test, y_pred=lego_predictions)))\n",
    "print(\"Precision: \" + str(skm.precision_score(y_true=theme_test, y_pred=lego_predictions, average=\"weighted\")))\n",
    "print(\"Recall: \" + str(skm.recall_score(y_true=theme_test, y_pred=lego_predictions, average=\"weighted\")))\n",
    "print(\"F1 Score: \" + str(skm.f1_score(y_true=theme_test, y_pred=lego_predictions, average=\"weighted\")))"
   ]
  },
  {
   "cell_type": "markdown",
   "metadata": {
    "collapsed": true
   },
   "source": [
    "I changed the solver from \"adam\" to \"lbfgs\" because the dataset was too small in order to converge quickly. However, after changing to the \"lbfgs\" solver, it was able to converage and produced better results.\n",
    "\n",
    "I also increased the maximum number of iterations, which slightly improved accuracy and the F1 score, but not by much.\n",
    "\n",
    "Lastly, I increased the hidden layer sizes in order to get more stable results. Before changing this, my F1 score would vary from approximately 0.69 to 0.71, whereas with the changed values it remains at around 0.705 to 0.71."
   ]
  },
  {
   "cell_type": "code",
   "execution_count": null,
   "metadata": {},
   "outputs": [],
   "source": [
    "lego_neigh_cfmat = skm.confusion_matrix(y_true=theme_test, y_pred=lego_predictions,)\n",
    "sns.heatmap(lego_neigh_cfmat, xticklabels=lego_test.classes_, yticklabels=lego_test.classes_, annot=True)\n",
    "plt.xlabel('predicted label')\n",
    "plt.ylabel('true label')\n",
    "plt.title('Confusion Matrix')"
   ]
  },
  {
   "cell_type": "markdown",
   "metadata": {},
   "source": [
    "It seems that the classifier was relatively accurate about most things, save for when trying to identify the difference between the themes \"Creator\" and \"City\". The classifier was good at identifying which sets fit within the \"Basic Set Theme\". After doing some searches online, it seemed that Creator was a much broader spectrum than something more specific such at Star Wars, which had specific colors to help in identifying the set. The neurnal net was able to draw conclusions to more specific sets by using unique pieces, but struggled to identify sets that had a broader coverage in terms of colors. "
   ]
  }
 ],
 "metadata": {
  "kernelspec": {
   "display_name": "Python 3",
   "language": "python",
   "name": "python3"
  },
  "language_info": {
   "codemirror_mode": {
    "name": "ipython",
    "version": 3
   },
   "file_extension": ".py",
   "mimetype": "text/x-python",
   "name": "python",
   "nbconvert_exporter": "python",
   "pygments_lexer": "ipython3",
   "version": "3.6.4"
  }
 },
 "nbformat": 4,
 "nbformat_minor": 2
}
